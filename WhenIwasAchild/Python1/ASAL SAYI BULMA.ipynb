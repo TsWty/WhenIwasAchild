{
 "cells": [
  {
   "cell_type": "code",
   "execution_count": 1,
   "id": "218bf452",
   "metadata": {},
   "outputs": [
    {
     "ename": "SyntaxError",
     "evalue": "unexpected EOF while parsing (<ipython-input-1-0f30266cba47>, line 4)",
     "output_type": "error",
     "traceback": [
      "\u001b[1;36m  File \u001b[1;32m\"<ipython-input-1-0f30266cba47>\"\u001b[1;36m, line \u001b[1;32m4\u001b[0m\n\u001b[1;33m    if (sayi == 1):\u001b[0m\n\u001b[1;37m                   ^\u001b[0m\n\u001b[1;31mSyntaxError\u001b[0m\u001b[1;31m:\u001b[0m unexpected EOF while parsing\n"
     ]
    }
   ],
   "source": []
  },
  {
   "cell_type": "code",
   "execution_count": 5,
   "id": "403e7cc1",
   "metadata": {},
   "outputs": [],
   "source": [
    "def asalmi(sayı):\n",
    "    if (sayı == 1):\n",
    "        return False\n",
    "    elif (sayı == 2):\n",
    "        return True\n",
    "    else:\n",
    "        for i in range(2,sayı) : \n",
    "            if (sayı % i == 0):\n",
    "                return false\n",
    "        return True\n",
    "    while True:\n",
    "        sayı = input(\"Sayı :\")\n",
    "        if (sayı == \"q\"):\n",
    "            break\n",
    "        else:\n",
    "            sayı = int(sayı)\n",
    "            \n",
    "        if(asalmi(sayı)):\n",
    "            print(sayı,\"asal bir sayıdır\")\n",
    "        else:\n",
    "            print(sayı,\"asal bir sayı değildir\")\n",
    "#BU KODLARI ÇALIŞTIRAMADIM AMA DOĞRULAR BU ŞEKİLDE ASAL SAYILARI BULABİLİRİZ\n",
    "\n",
    "            \n",
    "\n",
    "            \n",
    "            \n",
    "            \n",
    "            "
   ]
  },
  {
   "cell_type": "code",
   "execution_count": null,
   "id": "2ed6fcd7",
   "metadata": {},
   "outputs": [],
   "source": []
  }
 ],
 "metadata": {
  "kernelspec": {
   "display_name": "Python 3",
   "language": "python",
   "name": "python3"
  },
  "language_info": {
   "codemirror_mode": {
    "name": "ipython",
    "version": 3
   },
   "file_extension": ".py",
   "mimetype": "text/x-python",
   "name": "python",
   "nbconvert_exporter": "python",
   "pygments_lexer": "ipython3",
   "version": "3.8.8"
  }
 },
 "nbformat": 4,
 "nbformat_minor": 5
}
