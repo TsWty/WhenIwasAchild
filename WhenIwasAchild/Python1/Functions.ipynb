{
 "cells": [
  {
   "cell_type": "code",
   "execution_count": 1,
   "id": "d08a7fd2",
   "metadata": {},
   "outputs": [],
   "source": [
    "a = [1,2,3,4,5]"
   ]
  },
  {
   "cell_type": "code",
   "execution_count": 2,
   "id": "04e95e05",
   "metadata": {},
   "outputs": [
    {
     "data": {
      "text/plain": [
       "list"
      ]
     },
     "execution_count": 2,
     "metadata": {},
     "output_type": "execute_result"
    }
   ],
   "source": [
    "type(a)"
   ]
  },
  {
   "cell_type": "code",
   "execution_count": 13,
   "id": "36c4b4d5",
   "metadata": {},
   "outputs": [],
   "source": [
    "a.insert(1,\"Murat\")"
   ]
  },
  {
   "cell_type": "code",
   "execution_count": null,
   "id": "69863ed2",
   "metadata": {},
   "outputs": [],
   "source": []
  },
  {
   "cell_type": "code",
   "execution_count": 9,
   "id": "0d30411a",
   "metadata": {},
   "outputs": [],
   "source": [
    "a = [1,2,3,4,5]"
   ]
  },
  {
   "cell_type": "code",
   "execution_count": 10,
   "id": "447adc97",
   "metadata": {},
   "outputs": [],
   "source": [
    "a.append(\"PYTHON\")"
   ]
  },
  {
   "cell_type": "code",
   "execution_count": 11,
   "id": "cd161d5a",
   "metadata": {},
   "outputs": [
    {
     "data": {
      "text/plain": [
       "'PYTHON'"
      ]
     },
     "execution_count": 11,
     "metadata": {},
     "output_type": "execute_result"
    }
   ],
   "source": [
    "a.pop() #BU METHOD İLE LİSTENİN EN SONUNDA OLAN İÇERİK SİLİNİR"
   ]
  },
  {
   "cell_type": "code",
   "execution_count": 10,
   "id": "6376ed7c",
   "metadata": {},
   "outputs": [
    {
     "name": "stdout",
     "output_type": "stream",
     "text": [
      "Help on built-in function append:\n",
      "\n",
      "append(object, /) method of builtins.list instance\n",
      "    Append object to the end of the list.\n",
      "\n"
     ]
    }
   ],
   "source": [
    "help(a.append)#METHODUN NE İŞ YAPTIĞINI UNUTURSAK BU KODU YAZARIZ"
   ]
  },
  {
   "cell_type": "code",
   "execution_count": 2,
   "id": "005e95a0",
   "metadata": {},
   "outputs": [],
   "source": [
    "def selamla():\n",
    "    print(\"MERHABA...\")\n",
    "    print(\"NASILSINIZ?\")\n"
   ]
  },
  {
   "cell_type": "code",
   "execution_count": 11,
   "id": "a7374615",
   "metadata": {},
   "outputs": [
    {
     "name": "stdout",
     "output_type": "stream",
     "text": [
      "MERHABA...\n",
      "NASILSINIZ?\n",
      "MERHABA...\n",
      "NASILSINIZ?\n",
      "MERHABA...\n",
      "NASILSINIZ?\n",
      "MERHABA...\n",
      "NASILSINIZ?\n"
     ]
    }
   ],
   "source": [
    "selamla() \n",
    "selamla()\n",
    "selamla()\n",
    "selamla()"
   ]
  },
  {
   "cell_type": "code",
   "execution_count": 13,
   "id": "364696f4",
   "metadata": {},
   "outputs": [],
   "source": [
    "def selamla(isim):\n",
    "    print(\"İsminiz:\" ,isim)"
   ]
  },
  {
   "cell_type": "code",
   "execution_count": 15,
   "id": "397fdbc9",
   "metadata": {},
   "outputs": [
    {
     "name": "stdout",
     "output_type": "stream",
     "text": [
      "İsminiz: Kemal\n"
     ]
    }
   ],
   "source": [
    "selamla(\"Kemal\") #YUKARIDA OLAN İSİM DEĞİŞKENİNİN DEĞERİ KEMAL OLUYOR BU ŞEKİLDE"
   ]
  },
  {
   "cell_type": "code",
   "execution_count": 16,
   "id": "8f24af1a",
   "metadata": {},
   "outputs": [
    {
     "name": "stdout",
     "output_type": "stream",
     "text": [
      "İsminiz: Ayşe\n"
     ]
    }
   ],
   "source": [
    "selamla(\"Ayşe\")"
   ]
  },
  {
   "cell_type": "code",
   "execution_count": 17,
   "id": "622b9fee",
   "metadata": {},
   "outputs": [],
   "source": [
    "def toplama(a,b,c):\n",
    "    print(\"Toplamları\" ,a+b+c)\n",
    "    "
   ]
  },
  {
   "cell_type": "code",
   "execution_count": 19,
   "id": "17fd798a",
   "metadata": {},
   "outputs": [
    {
     "name": "stdout",
     "output_type": "stream",
     "text": [
      "Toplamları 200\n"
     ]
    }
   ],
   "source": [
    "toplama(90,10,100)#VEYA BU ŞEKİLLERDE DE KULLANABİLİRİZ FONKSİYONLARI"
   ]
  },
  {
   "cell_type": "code",
   "execution_count": 26,
   "id": "32113186",
   "metadata": {},
   "outputs": [],
   "source": [
    "def çarpma (x,y,z):\n",
    "    print(\"ÇARPIMLARI\",x*y*z)\n",
    "def bölme (d,e,f):\n",
    "    print(\"BÖLÜMLERİ\" , d/e/f)"
   ]
  },
  {
   "cell_type": "code",
   "execution_count": 23,
   "id": "f3a7d97a",
   "metadata": {},
   "outputs": [
    {
     "name": "stdout",
     "output_type": "stream",
     "text": [
      "ÇARPIMLARI 630000\n"
     ]
    }
   ],
   "source": [
    "çarpma(90,100,70)"
   ]
  },
  {
   "cell_type": "code",
   "execution_count": 27,
   "id": "0d889985",
   "metadata": {},
   "outputs": [
    {
     "name": "stdout",
     "output_type": "stream",
     "text": [
      "KALANLARI 0.33333333333333337\n"
     ]
    }
   ],
   "source": [
    "bölme(100,15,20)"
   ]
  },
  {
   "cell_type": "code",
   "execution_count": 6,
   "id": "0190f955",
   "metadata": {},
   "outputs": [],
   "source": [
    "def faktoriyel(sayı):\n",
    "    faktoriyel = 1  \n",
    "    if(sayı == 0 or sayı == 1):\n",
    "        print(\"Faktoriyel\" , faktoriyel)\n",
    "    else:\n",
    "        while(sayı >= 1):\n",
    "            faktoriyel *= sayı\n",
    "            sayı -= 1\n",
    "        print(\"Faktoriyel\",faktoriyel)"
   ]
  },
  {
   "cell_type": "code",
   "execution_count": 7,
   "id": "6981f492",
   "metadata": {},
   "outputs": [
    {
     "name": "stdout",
     "output_type": "stream",
     "text": [
      "Faktoriyel 3628800\n"
     ]
    }
   ],
   "source": [
    "faktoriyel(10)"
   ]
  },
  {
   "cell_type": "code",
   "execution_count": 8,
   "id": "32bccf10",
   "metadata": {},
   "outputs": [],
   "source": [
    "def toplama(a,b,c):\n",
    "    print(\"Toplamları\" , a+b+c)"
   ]
  },
  {
   "cell_type": "code",
   "execution_count": 9,
   "id": "57686484",
   "metadata": {},
   "outputs": [],
   "source": [
    "def ikiyleçarp(a):\n",
    "    print(\"İkiyle çarp\",a * 2)"
   ]
  },
  {
   "cell_type": "code",
   "execution_count": 12,
   "id": "1b9b313e",
   "metadata": {},
   "outputs": [],
   "source": [
    "def toplama(a,b,c):\n",
    "    return a+b+c\n",
    "def ikiyleçarp(a) : \n",
    "    return a*2"
   ]
  },
  {
   "cell_type": "code",
   "execution_count": 14,
   "id": "c71fbd0f",
   "metadata": {},
   "outputs": [
    {
     "name": "stdout",
     "output_type": "stream",
     "text": [
      "24\n"
     ]
    }
   ],
   "source": [
    "toplam = toplama(3,4,5)\n",
    "\n",
    "print(ikiyleçarp(toplam))\n"
   ]
  },
  {
   "cell_type": "code",
   "execution_count": 15,
   "id": "43b5a91a",
   "metadata": {},
   "outputs": [],
   "source": [
    "def üçleçarp (a):\n",
    "    print(\"1. fonksiyon çalıştı\")\n",
    "    return a*3"
   ]
  },
  {
   "cell_type": "code",
   "execution_count": 35,
   "id": "fb1da36d",
   "metadata": {},
   "outputs": [],
   "source": [
    "def ikiyletopla(a):\n",
    "    print(\"2. fonksiyon çalıştı\")\n",
    "    return a+2"
   ]
  },
  {
   "cell_type": "code",
   "execution_count": 36,
   "id": "f84d4bf4",
   "metadata": {},
   "outputs": [],
   "source": [
    "def dördeböl (a):\n",
    "    print(\"3. fonksiyon çalıştı\")\n",
    "    return a/4"
   ]
  },
  {
   "cell_type": "code",
   "execution_count": 37,
   "id": "71484e91",
   "metadata": {},
   "outputs": [
    {
     "name": "stdout",
     "output_type": "stream",
     "text": [
      "1. fonksiyon çalıştı\n"
     ]
    },
    {
     "data": {
      "text/plain": [
       "270"
      ]
     },
     "execution_count": 37,
     "metadata": {},
     "output_type": "execute_result"
    }
   ],
   "source": [
    "üçleçarp(90)"
   ]
  },
  {
   "cell_type": "code",
   "execution_count": 38,
   "id": "2568fc49",
   "metadata": {},
   "outputs": [
    {
     "name": "stdout",
     "output_type": "stream",
     "text": [
      "1. fonksiyon çalıştı\n",
      "2. fonksiyon çalıştı\n",
      "3. fonksiyon çalıştı\n",
      "4.25\n"
     ]
    }
   ],
   "source": [
    " print(dördeböl(ikiyletopla(üçleçarp(5))) #BU ŞEKİLDE FONKSİYONLARI İÇ İÇE DE YAZDIRABİLİRİZ"
   ]
  },
  {
   "cell_type": "code",
   "execution_count": 3,
   "id": "e968a93e",
   "metadata": {},
   "outputs": [],
   "source": [
    "def selamla(isim):\n",
    "    print(\"SELAM\",isim)"
   ]
  },
  {
   "cell_type": "code",
   "execution_count": 4,
   "id": "5dfc81b4",
   "metadata": {},
   "outputs": [
    {
     "name": "stdout",
     "output_type": "stream",
     "text": [
      "SELAM SERHAT\n"
     ]
    }
   ],
   "source": [
    "selamla(\"SERHAT\")"
   ]
  },
  {
   "cell_type": "code",
   "execution_count": 5,
   "id": "45fa1c64",
   "metadata": {},
   "outputs": [],
   "source": [
    "def selamla(isim = \"İsimsiz\"):\n",
    "    print(\"Selam\",isim)\n",
    "    "
   ]
  },
  {
   "cell_type": "code",
   "execution_count": 8,
   "id": "bdfab89e",
   "metadata": {},
   "outputs": [
    {
     "name": "stdout",
     "output_type": "stream",
     "text": [
      "Selam İsimsiz\n"
     ]
    }
   ],
   "source": [
    "selamla()"
   ]
  },
  {
   "cell_type": "code",
   "execution_count": 9,
   "id": "c74750af",
   "metadata": {},
   "outputs": [
    {
     "name": "stdout",
     "output_type": "stream",
     "text": [
      "Selam Murat\n"
     ]
    }
   ],
   "source": [
    "selamla(\"Murat\")"
   ]
  },
  {
   "cell_type": "code",
   "execution_count": 13,
   "id": "fcedd13a",
   "metadata": {},
   "outputs": [],
   "source": [
    "def bilgilerigoster (ad,soyad,numara):\n",
    "    print(\"Ad:\",ad ,\"Soyad:\",soyad ,\"Numara:\",numara,)"
   ]
  },
  {
   "cell_type": "code",
   "execution_count": 12,
   "id": "9b5befd7",
   "metadata": {},
   "outputs": [
    {
     "name": "stdout",
     "output_type": "stream",
     "text": [
      "Ad Ömer efe Soyad YıLMAZ Numara 1780\n"
     ]
    }
   ],
   "source": [
    "bilgilerigoster (\"Ömer efe\",\"YıLMAZ\",\"1780\")"
   ]
  },
  {
   "cell_type": "code",
   "execution_count": 16,
   "id": "6e6b4538",
   "metadata": {},
   "outputs": [],
   "source": [
    "def bilgilerigoster (ad = \"Bilgi yok\",soyad = \"Bilgi yok\",numara = \"Bilgi  yok\"):\n",
    "    print(\"Ad:\",ad ,\"Soyad:\",soyad ,\"Numara:\",numara,)"
   ]
  },
  {
   "cell_type": "code",
   "execution_count": 19,
   "id": "977a4853",
   "metadata": {},
   "outputs": [
    {
     "name": "stdout",
     "output_type": "stream",
     "text": [
      "Ad: Bilgi yok Soyad: Bilgi yok Numara: Bilgi  yok\n"
     ]
    }
   ],
   "source": [
    "bilgilerigoster() #BU ŞEKİLDE PARANTEZİ BOŞ BIRAKIP  PARAMETRE VERMESEK DAHİ EKRANA BİEŞY YAZDIRABİLİRİZ"
   ]
  },
  {
   "cell_type": "code",
   "execution_count": 20,
   "id": "f1bd2ce8",
   "metadata": {},
   "outputs": [
    {
     "name": "stdout",
     "output_type": "stream",
     "text": [
      "Ad: Bilgi yok Soyad: Bilgi yok Numara: 3455\n"
     ]
    }
   ],
   "source": [
    "bilgilerigoster(numara = \"3455\")"
   ]
  },
  {
   "cell_type": "code",
   "execution_count": 21,
   "id": "1c6aa463",
   "metadata": {},
   "outputs": [],
   "source": [
    " #ESNEK SAYIDA DEĞERLER"
   ]
  },
  {
   "cell_type": "code",
   "execution_count": 22,
   "id": "61c2aea3",
   "metadata": {},
   "outputs": [],
   "source": [
    "def toplama( a,b,c):\n",
    "    print(a+b+c)\n",
    "    "
   ]
  },
  {
   "cell_type": "code",
   "execution_count": 23,
   "id": "1581594d",
   "metadata": {},
   "outputs": [
    {
     "name": "stdout",
     "output_type": "stream",
     "text": [
      "24\n"
     ]
    }
   ],
   "source": [
    "toplama(8,8,8)"
   ]
  },
  {
   "cell_type": "code",
   "execution_count": 24,
   "id": "3e5a3ca8",
   "metadata": {},
   "outputs": [],
   "source": [
    "def toplama(*a):\n",
    "    print(a)"
   ]
  },
  {
   "cell_type": "code",
   "execution_count": 25,
   "id": "a657adf1",
   "metadata": {},
   "outputs": [
    {
     "name": "stdout",
     "output_type": "stream",
     "text": [
      "(1, 2, 3)\n"
     ]
    }
   ],
   "source": [
    "toplama(1,2,3)"
   ]
  },
  {
   "cell_type": "code",
   "execution_count": 29,
   "id": "254c0d0e",
   "metadata": {},
   "outputs": [],
   "source": [
    "def toplama(*a):\n",
    "    toplam = 0\n",
    "    for i in a :\n",
    "        toplam += i\n",
    "    print(toplam) #BU ŞEKİLDE HERHANGİ BİR SAYI SINIRI YAPMADAN YANİ YUKARIDA DEF TOPLAM(A,B,C) \n",
    "    #YAPMIŞTIK HİÇ ONLARA GEREK KALMADAN BU ŞEKİLDE YAPARAK İSTEDİĞİMİZ KADAR SAYIYI TOPLAYIP ÇARPABİLİRİZ"
   ]
  },
  {
   "cell_type": "code",
   "execution_count": 30,
   "id": "e0246dd2",
   "metadata": {},
   "outputs": [
    {
     "name": "stdout",
     "output_type": "stream",
     "text": [
      "28\n"
     ]
    }
   ],
   "source": [
    "toplama(1,2,3,4,5,6,7)"
   ]
  },
  {
   "cell_type": "code",
   "execution_count": 31,
   "id": "5a6e4e0f",
   "metadata": {},
   "outputs": [],
   "source": [
    "#GLOBAL VE YEREL DEĞİŞKENLER"
   ]
  },
  {
   "cell_type": "code",
   "execution_count": 32,
   "id": "2e64f462",
   "metadata": {},
   "outputs": [
    {
     "name": "stdout",
     "output_type": "stream",
     "text": [
      "10\n"
     ]
    },
    {
     "ename": "NameError",
     "evalue": "name 'a' is not defined",
     "output_type": "error",
     "traceback": [
      "\u001b[1;31m---------------------------------------------------------------------------\u001b[0m",
      "\u001b[1;31mNameError\u001b[0m                                 Traceback (most recent call last)",
      "\u001b[1;32m<ipython-input-32-1baeeb37facd>\u001b[0m in \u001b[0;36m<module>\u001b[1;34m\u001b[0m\n\u001b[0;32m      3\u001b[0m     \u001b[0mprint\u001b[0m\u001b[1;33m(\u001b[0m\u001b[0ma\u001b[0m\u001b[1;33m)\u001b[0m\u001b[1;33m\u001b[0m\u001b[1;33m\u001b[0m\u001b[0m\n\u001b[0;32m      4\u001b[0m \u001b[0mfonksiyon\u001b[0m\u001b[1;33m(\u001b[0m\u001b[1;33m)\u001b[0m\u001b[1;33m\u001b[0m\u001b[1;33m\u001b[0m\u001b[0m\n\u001b[1;32m----> 5\u001b[1;33m \u001b[0mprint\u001b[0m\u001b[1;33m(\u001b[0m\u001b[0ma\u001b[0m\u001b[1;33m)\u001b[0m\u001b[1;33m\u001b[0m\u001b[1;33m\u001b[0m\u001b[0m\n\u001b[0m",
      "\u001b[1;31mNameError\u001b[0m: name 'a' is not defined"
     ]
    }
   ],
   "source": [
    "def fonksiyon():\n",
    "    a = 10\n",
    "    print(a)\n",
    "fonksiyon()\n",
    "print(a) #YEREL DEĞİŞKENLER FONKSİYONUN İÇERİSİNDE FONKSİYONA ÖZGÜ OLAN DEĞİŞKENLERDİR\n",
    "#FONKSİYON İÇİNDE OLUŞTURAN DEĞİŞKENLERE FONKSİYON ÇAĞRISI BİTTİKTEN SONRA ERİŞEMEYİZ BU YÜZDEN HATA ALIYORUZ"
   ]
  },
  {
   "cell_type": "code",
   "execution_count": 33,
   "id": "c5118760",
   "metadata": {},
   "outputs": [
    {
     "name": "stdout",
     "output_type": "stream",
     "text": [
      "5\n"
     ]
    }
   ],
   "source": [
    "b = 5\n",
    "def fonksiyon():\n",
    "    print(b)\n",
    "fonksiyon() #BURADA B Yİ FONKSİYONUN DIŞINDA TANIMLADIK VE HATA ALMADIK\n",
    "#AMA MURAT HOCANIN DEDİĞİ GİBİ LOCAL HERZAMAN DAHA İYİDİR \n",
    "#FONKSİYONUN İÇİNDE TANIMLAMAMIZ DAHA İŞLEVLİDİR"
   ]
  },
  {
   "cell_type": "code",
   "execution_count": 35,
   "id": "342505c8",
   "metadata": {},
   "outputs": [
    {
     "ename": "NameError",
     "evalue": "name 's' is not defined",
     "output_type": "error",
     "traceback": [
      "\u001b[1;31m---------------------------------------------------------------------------\u001b[0m",
      "\u001b[1;31mNameError\u001b[0m                                 Traceback (most recent call last)",
      "\u001b[1;32m<ipython-input-35-c368c962a6b9>\u001b[0m in \u001b[0;36m<module>\u001b[1;34m\u001b[0m\n\u001b[0;32m      2\u001b[0m \u001b[1;33m\u001b[0m\u001b[0m\n\u001b[0;32m      3\u001b[0m     \u001b[0mprint\u001b[0m\u001b[1;33m(\u001b[0m\u001b[0ms\u001b[0m\u001b[1;33m)\u001b[0m\u001b[1;33m\u001b[0m\u001b[1;33m\u001b[0m\u001b[0m\n\u001b[1;32m----> 4\u001b[1;33m \u001b[0mfonksiyon\u001b[0m\u001b[1;33m(\u001b[0m\u001b[1;33m)\u001b[0m\u001b[1;33m\u001b[0m\u001b[1;33m\u001b[0m\u001b[0m\n\u001b[0m\u001b[0;32m      5\u001b[0m \u001b[0ms\u001b[0m \u001b[1;33m=\u001b[0m \u001b[1;34m\"python\"\u001b[0m \u001b[1;31m#BURADA DA FONKSİYON BİTTİKTEN SONRA DEĞİŞKEN TANIMLANIYOR BU DA YANLIŞ\u001b[0m\u001b[1;33m\u001b[0m\u001b[1;33m\u001b[0m\u001b[0m\n\u001b[0;32m      6\u001b[0m \u001b[1;33m\u001b[0m\u001b[0m\n",
      "\u001b[1;32m<ipython-input-35-c368c962a6b9>\u001b[0m in \u001b[0;36mfonksiyon\u001b[1;34m()\u001b[0m\n\u001b[0;32m      1\u001b[0m \u001b[1;32mdef\u001b[0m \u001b[0mfonksiyon\u001b[0m\u001b[1;33m(\u001b[0m\u001b[1;33m)\u001b[0m\u001b[1;33m:\u001b[0m\u001b[1;33m\u001b[0m\u001b[1;33m\u001b[0m\u001b[0m\n\u001b[0;32m      2\u001b[0m \u001b[1;33m\u001b[0m\u001b[0m\n\u001b[1;32m----> 3\u001b[1;33m     \u001b[0mprint\u001b[0m\u001b[1;33m(\u001b[0m\u001b[0ms\u001b[0m\u001b[1;33m)\u001b[0m\u001b[1;33m\u001b[0m\u001b[1;33m\u001b[0m\u001b[0m\n\u001b[0m\u001b[0;32m      4\u001b[0m \u001b[0mfonksiyon\u001b[0m\u001b[1;33m(\u001b[0m\u001b[1;33m)\u001b[0m\u001b[1;33m\u001b[0m\u001b[1;33m\u001b[0m\u001b[0m\n\u001b[0;32m      5\u001b[0m \u001b[0ms\u001b[0m \u001b[1;33m=\u001b[0m \u001b[1;34m\"python\"\u001b[0m \u001b[1;31m#BURADA DA FONKSİYON BİTTİKTEN SONRA DEĞİŞKEN TANIMLANIYOR BU DA YANLIŞ\u001b[0m\u001b[1;33m\u001b[0m\u001b[1;33m\u001b[0m\u001b[0m\n",
      "\u001b[1;31mNameError\u001b[0m: name 's' is not defined"
     ]
    }
   ],
   "source": [
    "def fonksiyon():\n",
    "    \n",
    "    print(s)\n",
    "fonksiyon()\n",
    "s = \"python\" #BURADA DA FONKSİYON BİTTİKTEN SONRA DEĞİŞKEN TANIMLANIYOR BU DA YANLIŞ\n",
    "    "
   ]
  },
  {
   "cell_type": "code",
   "execution_count": 36,
   "id": "ac2a5403",
   "metadata": {},
   "outputs": [
    {
     "name": "stdout",
     "output_type": "stream",
     "text": [
      "2\n"
     ]
    },
    {
     "ename": "NameError",
     "evalue": "name 'c' is not defined",
     "output_type": "error",
     "traceback": [
      "\u001b[1;31m---------------------------------------------------------------------------\u001b[0m",
      "\u001b[1;31mNameError\u001b[0m                                 Traceback (most recent call last)",
      "\u001b[1;32m<ipython-input-36-ff2a46f137bb>\u001b[0m in \u001b[0;36m<module>\u001b[1;34m\u001b[0m\n\u001b[0;32m      4\u001b[0m     \u001b[0mprint\u001b[0m\u001b[1;33m(\u001b[0m\u001b[0mc\u001b[0m\u001b[1;33m)\u001b[0m\u001b[1;33m\u001b[0m\u001b[1;33m\u001b[0m\u001b[0m\n\u001b[0;32m      5\u001b[0m \u001b[0mfonksiyon\u001b[0m\u001b[1;33m(\u001b[0m\u001b[1;33m)\u001b[0m\u001b[1;33m\u001b[0m\u001b[1;33m\u001b[0m\u001b[0m\n\u001b[1;32m----> 6\u001b[1;33m \u001b[0mprint\u001b[0m\u001b[1;33m(\u001b[0m\u001b[0mc\u001b[0m\u001b[1;33m)\u001b[0m\u001b[1;33m\u001b[0m\u001b[1;33m\u001b[0m\u001b[0m\n\u001b[0m",
      "\u001b[1;31mNameError\u001b[0m: name 'c' is not defined"
     ]
    }
   ],
   "source": [
    "C = 10\n",
    "def fonksiyon():\n",
    "    c = 2\n",
    "    print(c)\n",
    "fonksiyon()\n",
    "print(c) #EĞER BİRDEN FAZLA DEĞİŞKENİN VARSA LOCALDE Kİ C DEĞERİ ALINIR\n",
    "#LOCAL GLOBAL FARKI GLOBAL ADINDAN ANLAŞILDIĞI ÜZERE TÜM KODLAR İÇİN KULLANILIR LOCA İSE SADECE FONKSİYONUN İÇİNDE"
   ]
  },
  {
   "cell_type": "code",
   "execution_count": 41,
   "id": "25d8f6c4",
   "metadata": {},
   "outputs": [
    {
     "name": "stdout",
     "output_type": "stream",
     "text": [
      "3\n",
      "3\n"
     ]
    }
   ],
   "source": [
    "b = 20\n",
    "def fonksiyon():\n",
    "    global b\n",
    "    b = 3\n",
    "    print(b)\n",
    "fonksiyon()\n",
    "print(b) #İSTERSEK GLOBAL DE Kİ DEĞİŞKENİ LOCALDE Kİ DEĞİŞKENİN DEĞERİ İLE DEĞİŞTİREBİLİRİZ\n"
   ]
  },
  {
   "cell_type": "code",
   "execution_count": 45,
   "id": "cd6ce477",
   "metadata": {},
   "outputs": [
    {
     "name": "stdout",
     "output_type": "stream",
     "text": [
      "20\n",
      "20\n"
     ]
    }
   ],
   "source": [
    "d = 5\n",
    "def fonksiyon():\n",
    "    global d\n",
    "    d = 20\n",
    "    print(d)\n",
    "fonksiyon() \n",
    "print(d)\n",
    "    "
   ]
  },
  {
   "cell_type": "code",
   "execution_count": 40,
   "id": "f83a026a",
   "metadata": {},
   "outputs": [
    {
     "data": {
      "text/plain": [
       "3"
      ]
     },
     "execution_count": 40,
     "metadata": {},
     "output_type": "execute_result"
    }
   ],
   "source": [
    "b"
   ]
  },
  {
   "cell_type": "code",
   "execution_count": 47,
   "id": "067fc02b",
   "metadata": {},
   "outputs": [
    {
     "name": "stdout",
     "output_type": "stream",
     "text": [
      "4\n",
      "4\n"
     ]
    }
   ],
   "source": [
    "if True:\n",
    "    e = 4\n",
    "    print(e)\n",
    "print(e) #LOCAL GLOBALLER SADECE FONKSİYONA ÖZGÜ TERİMLERDİR "
   ]
  },
  {
   "cell_type": "code",
   "execution_count": null,
   "id": "e34c03da",
   "metadata": {},
   "outputs": [],
   "source": []
  }
 ],
 "metadata": {
  "kernelspec": {
   "display_name": "Python 3",
   "language": "python",
   "name": "python3"
  },
  "language_info": {
   "codemirror_mode": {
    "name": "ipython",
    "version": 3
   },
   "file_extension": ".py",
   "mimetype": "text/x-python",
   "name": "python",
   "nbconvert_exporter": "python",
   "pygments_lexer": "ipython3",
   "version": "3.8.8"
  }
 },
 "nbformat": 4,
 "nbformat_minor": 5
}
