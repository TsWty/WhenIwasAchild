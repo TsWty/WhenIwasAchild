{
 "cells": [
  {
   "cell_type": "code",
   "execution_count": 14,
   "id": "04f18567",
   "metadata": {},
   "outputs": [
    {
     "ename": "IndentationError",
     "evalue": "unexpected indent (<ipython-input-14-1112c2dbdd84>, line 24)",
     "output_type": "error",
     "traceback": [
      "\u001b[1;36m  File \u001b[1;32m\"<ipython-input-14-1112c2dbdd84>\"\u001b[1;36m, line \u001b[1;32m24\u001b[0m\n\u001b[1;33m    break\u001b[0m\n\u001b[1;37m    ^\u001b[0m\n\u001b[1;31mIndentationError\u001b[0m\u001b[1;31m:\u001b[0m unexpected indent\n"
     ]
    }
   ],
   "source": [
    "print(\"\"\"\n",
    "\n",
    "******************\n",
    "Kullanıcı Girişi Programı\n",
    "\n",
    "******************\n",
    "\n",
    "\"\"\")\n",
    "\n",
    "sys_kullanıcı_adı = \"ömerr\"\n",
    "\n",
    "sys_parola = \"Efe\"\n",
    "\n",
    "giriş_hakkı = 3\n",
    "sayac = 3\n",
    "\n",
    "while True:\n",
    "        kullanıcı_adı = input(\"Kullanıcı Adı : \")\n",
    "        parola = input(\"Parola :\")\n",
    "        giriş_hakkı -= 1\n",
    "        sayac -= 1\n",
    "        if(kullanıcı_adı != sys_kullanıcı_adı and parola == sys_parola):\n",
    "            print(f\"Kullanıcı Adı Hatalı.. {sayac} Hakkınız Kaldı \")\n",
    "        elif(kullanıcı_adı == sys_kullanıcı_adı and parola != sys_parola):\n",
    "            print(f\"Parola Hatalı... {sayac} Hakkınız Kaldı\")\n",
    "        elif(kullanıcı_adı != sys_kullanıcı_adı and parola != sys_parola):\n",
    "            print(f\"Kullancı Adı Ve Parola Hatalı... {sayac} Hakkınız Kaldı\")\n",
    "    \n",
    "        else:\n",
    "            print(\"Sisteme Başarıyla Giriş Yaptınız\")\n",
    "                break\n",
    "            \n",
    "        if(giriş_hakkı==0):\n",
    "            print(\"Hakkınız Kalmadı\")\n",
    "                break\n",
    "\n"
   ]
  },
  {
   "cell_type": "code",
   "execution_count": null,
   "id": "5abeef83",
   "metadata": {},
   "outputs": [],
   "source": []
  },
  {
   "cell_type": "code",
   "execution_count": null,
   "id": "43675fa9",
   "metadata": {},
   "outputs": [],
   "source": []
  },
  {
   "cell_type": "code",
   "execution_count": null,
   "id": "0b5a31c2",
   "metadata": {},
   "outputs": [],
   "source": [
    "print(\"\"\"\n",
    "\n",
    "******************\n",
    "Kullanıcı Girişi Programı\n",
    "\n",
    "******************\n",
    "\n",
    "\"\"\")\n",
    "\n",
    "sys_kullanıcı_adı = \"ömerr\"\n",
    "\n",
    "sys_parola = \"Efe\"\n",
    "\n",
    "giriş_hakkı = 3\n",
    "sayac = 3\n",
    "\n",
    "while True:\n",
    "        kullanıcı_adı = input(\"Kullanıcı Adı : \")\n",
    "        if(kullanıcı_adı == \"q\"):\n",
    "            print(\"ÇIKIŞ YAPILIYOR\")\n",
    "            break\n",
    "        parola = input(\"Parola :\")\n",
    "        if(parola == \"q\"):\n",
    "            print(\"ÇIKIŞ YAPILIYOR\")\n",
    "            break\n",
    "        giriş_hakkı -= 1\n",
    "        sayac -= 1\n",
    "        \n",
    "\n",
    "        if(kullanıcı_adı != sys_kullanıcı_adı and parola == sys_parola):\n",
    "            print(f\"Kullanıcı Adı Hatalı.. {sayac} Hakkınız Kaldı \")\n",
    "        elif(kullanıcı_adı == sys_kullanıcı_adı and parola != sys_parola):\n",
    "            print(f\"Parola Hatalı... {sayac} Hakkınız Kaldı\")\n",
    "        elif(kullanıcı_adı != sys_kullanıcı_adı and parola != sys_parola):\n",
    "            print(f\"Kullancı Adı Ve Parola Hatalı... {sayac} Hakkınız Kaldı\")\n",
    "    \n",
    "        else:\n",
    "            print(\"Sisteme Başarıyla Giriş Yaptınız\")\n",
    "            break\n",
    "            \n",
    "        if(giriş_hakkı==0):\n",
    "            print(\"Hakkınız Kalmadı\")\n",
    "            break\n",
    "\n",
    "    "
   ]
  },
  {
   "cell_type": "code",
   "execution_count": null,
   "id": "0ce2da05",
   "metadata": {},
   "outputs": [],
   "source": []
  },
  {
   "cell_type": "code",
   "execution_count": null,
   "id": "255519a5",
   "metadata": {},
   "outputs": [],
   "source": []
  }
 ],
 "metadata": {
  "kernelspec": {
   "display_name": "Python 3",
   "language": "python",
   "name": "python3"
  },
  "language_info": {
   "codemirror_mode": {
    "name": "ipython",
    "version": 3
   },
   "file_extension": ".py",
   "mimetype": "text/x-python",
   "name": "python",
   "nbconvert_exporter": "python",
   "pygments_lexer": "ipython3",
   "version": "3.8.8"
  }
 },
 "nbformat": 4,
 "nbformat_minor": 5
}
