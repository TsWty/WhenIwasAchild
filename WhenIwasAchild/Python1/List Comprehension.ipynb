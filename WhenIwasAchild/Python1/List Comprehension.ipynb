{
 "cells": [
  {
   "cell_type": "code",
   "execution_count": 5,
   "id": "baca3aa8",
   "metadata": {},
   "outputs": [
    {
     "name": "stdout",
     "output_type": "stream",
     "text": [
      "[1, 2, 3, 4, 5]\n"
     ]
    }
   ],
   "source": [
    "liste1 = [1,2,3,4,5]\n",
    "\n",
    "liste2 = list()\n",
    "\n",
    "for i in liste1:\n",
    "    liste2.append(i)\n",
    "print(liste2)\n",
    "    "
   ]
  },
  {
   "cell_type": "code",
   "execution_count": 1,
   "id": "e5bc4b8f",
   "metadata": {},
   "outputs": [
    {
     "ename": "NameError",
     "evalue": "name 'liste1' is not defined",
     "output_type": "error",
     "traceback": [
      "\u001b[1;31m---------------------------------------------------------------------------\u001b[0m",
      "\u001b[1;31mNameError\u001b[0m                                 Traceback (most recent call last)",
      "\u001b[1;32m<ipython-input-1-e41beb321a74>\u001b[0m in \u001b[0;36m<module>\u001b[1;34m\u001b[0m\n\u001b[1;32m----> 1\u001b[1;33m \u001b[0mliste2\u001b[0m \u001b[1;33m=\u001b[0m \u001b[1;33m[\u001b[0m\u001b[0mx\u001b[0m \u001b[1;32mfor\u001b[0m \u001b[0mi\u001b[0m \u001b[1;32min\u001b[0m \u001b[0mliste1\u001b[0m \u001b[1;32mfor\u001b[0m \u001b[0mx\u001b[0m \u001b[1;32min\u001b[0m \u001b[0mi\u001b[0m\u001b[1;33m]\u001b[0m \u001b[1;31m#list comprehension yöntemi birden fazla for döngüsü oluşturmak yerine işimizi kolaylaştırır\u001b[0m\u001b[1;33m\u001b[0m\u001b[1;33m\u001b[0m\u001b[0m\n\u001b[0m",
      "\u001b[1;31mNameError\u001b[0m: name 'liste1' is not defined"
     ]
    }
   ],
   "source": [
    "liste2 = [x for i in liste1 for x in i] #list comprehension yöntemi birden fazla for döngüsü oluşturmak yerine işimizi kolaylaştırır"
   ]
  },
  {
   "cell_type": "code",
   "execution_count": 12,
   "id": "286db66e",
   "metadata": {},
   "outputs": [
    {
     "name": "stdout",
     "output_type": "stream",
     "text": [
      "[1, 2, 3, 4, 5]\n"
     ]
    }
   ],
   "source": [
    "liste3 = [1,2,3,4,5]\n",
    "\n",
    "liste4 = [i for i in liste3]\n",
    "print(liste4)"
   ]
  },
  {
   "cell_type": "code",
   "execution_count": 13,
   "id": "043ee52f",
   "metadata": {},
   "outputs": [
    {
     "data": {
      "text/plain": [
       "[1, 2, 3, 4, 5]"
      ]
     },
     "execution_count": 13,
     "metadata": {},
     "output_type": "execute_result"
    }
   ],
   "source": [
    "liste4"
   ]
  },
  {
   "cell_type": "code",
   "execution_count": 14,
   "id": "1bf553af",
   "metadata": {},
   "outputs": [],
   "source": [
    "liste4\n",
    "liste5 = [y*4 for y in liste4]"
   ]
  },
  {
   "cell_type": "code",
   "execution_count": 15,
   "id": "e44b4103",
   "metadata": {},
   "outputs": [
    {
     "data": {
      "text/plain": [
       "[4, 8, 12, 16, 20]"
      ]
     },
     "execution_count": 15,
     "metadata": {},
     "output_type": "execute_result"
    }
   ],
   "source": [
    "liste5"
   ]
  },
  {
   "cell_type": "code",
   "execution_count": 1,
   "id": "929c4ee7",
   "metadata": {},
   "outputs": [
    {
     "name": "stdout",
     "output_type": "stream",
     "text": [
      "[6, 8, 10]\n"
     ]
    }
   ],
   "source": [
    "liste = [3,4,5]\n",
    "liste1 = [i*2 for i in liste]\n",
    "print(liste1)"
   ]
  },
  {
   "cell_type": "code",
   "execution_count": 6,
   "id": "45dc661d",
   "metadata": {},
   "outputs": [],
   "source": [
    "liste = [(1,2) , (3,4) , (5,6)]\n",
    "\n",
    "liste1 = [1*j for i,j in liste]\n",
    "#i j derssek her her bir demeti listeye atabiliriz mesela i = 1 j=2 i=3 j=4 gibi gibi"
   ]
  },
  {
   "cell_type": "code",
   "execution_count": 3,
   "id": "501e0a00",
   "metadata": {},
   "outputs": [],
   "source": [
    "liste6 = [\"Ömer\" , \"Efe\" , \"Yılmaz\"]"
   ]
  },
  {
   "cell_type": "code",
   "execution_count": 10,
   "id": "8c3b1f1b",
   "metadata": {},
   "outputs": [],
   "source": [
    "d = \"python\"\n",
    "\n",
    "liste1 = [i*3 for i in d]"
   ]
  },
  {
   "cell_type": "code",
   "execution_count": 11,
   "id": "cc853d0b",
   "metadata": {},
   "outputs": [
    {
     "data": {
      "text/plain": [
       "['ppp', 'yyy', 'ttt', 'hhh', 'ooo', 'nnn']"
      ]
     },
     "execution_count": 11,
     "metadata": {},
     "output_type": "execute_result"
    }
   ],
   "source": [
    "liste1"
   ]
  },
  {
   "cell_type": "code",
   "execution_count": 8,
   "id": "267504ba",
   "metadata": {},
   "outputs": [
    {
     "data": {
      "text/plain": [
       "'python'"
      ]
     },
     "execution_count": 8,
     "metadata": {},
     "output_type": "execute_result"
    }
   ],
   "source": [
    "d"
   ]
  },
  {
   "cell_type": "code",
   "execution_count": 30,
   "id": "5d05d3d1",
   "metadata": {},
   "outputs": [
    {
     "name": "stdout",
     "output_type": "stream",
     "text": [
      "[1, 2, 3, 4, 5, 6, 7, 8, 9, 10, 11]\n"
     ]
    }
   ],
   "source": [
    "liste = [[1,2,3],[4,5,6],[7,8,9,10,11]]\n",
    "\n",
    "for i in liste:\n",
    "    for x in i:\n",
    "        liste1.append(x)\n",
    "print(liste1)"
   ]
  },
  {
   "cell_type": "code",
   "execution_count": 35,
   "id": "ab8c7508",
   "metadata": {},
   "outputs": [
    {
     "name": "stdout",
     "output_type": "stream",
     "text": [
      "[11, 11, 11]\n"
     ]
    }
   ],
   "source": [
    "liste = [[1,2,3],[4,5,6],[7,8,9,10,11]]\n",
    "liste2 = [x for i in liste or x in i] #Biraz Karmaşık\n",
    "print(liste2) #BU ŞEKİLDE DE YUKARIDA Kİ ŞEKİLDE DE YAPILABİLİR BU DAHA PRATİK O KADAR\n"
   ]
  },
  {
   "cell_type": "code",
   "execution_count": null,
   "id": "cb1be952",
   "metadata": {},
   "outputs": [],
   "source": []
  },
  {
   "cell_type": "code",
   "execution_count": 1,
   "id": "345d6957",
   "metadata": {},
   "outputs": [],
   "source": [
    "liste1 = [1,2,3,4,5]\n",
    "liste2 = [i*2 for i in liste1]"
   ]
  },
  {
   "cell_type": "code",
   "execution_count": 2,
   "id": "aa1c020d",
   "metadata": {},
   "outputs": [
    {
     "data": {
      "text/plain": [
       "[2, 4, 6, 8, 10]"
      ]
     },
     "execution_count": 2,
     "metadata": {},
     "output_type": "execute_result"
    }
   ],
   "source": [
    "liste2"
   ]
  },
  {
   "cell_type": "code",
   "execution_count": null,
   "id": "7adf0c17",
   "metadata": {},
   "outputs": [],
   "source": []
  }
 ],
 "metadata": {
  "kernelspec": {
   "display_name": "Python 3",
   "language": "python",
   "name": "python3"
  },
  "language_info": {
   "codemirror_mode": {
    "name": "ipython",
    "version": 3
   },
   "file_extension": ".py",
   "mimetype": "text/x-python",
   "name": "python",
   "nbconvert_exporter": "python",
   "pygments_lexer": "ipython3",
   "version": "3.8.8"
  }
 },
 "nbformat": 4,
 "nbformat_minor": 5
}
