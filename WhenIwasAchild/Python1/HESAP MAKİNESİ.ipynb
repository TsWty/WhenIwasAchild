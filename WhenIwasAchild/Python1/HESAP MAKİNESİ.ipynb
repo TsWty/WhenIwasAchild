{
 "cells": [
  {
   "cell_type": "code",
   "execution_count": null,
   "id": "50a851be",
   "metadata": {},
   "outputs": [],
   "source": [
    "print(\"\"\"******************************\n",
    "\n",
    "Hesap Makinesi Programı\n",
    "\n",
    "İŞLEMLER\n",
    "\n",
    "1-Toplama İşlemi\n",
    "\n",
    "2-Çıkarma İşlemi\n",
    "\n",
    "3-Çarpma İşlemi\n",
    "\n",
    "4-Bölme İşlemi\n",
    "\n",
    "\n",
    "\n",
    "*******************************\n",
    "\n",
    "\n",
    "\n",
    "\n",
    "\n",
    "\"\"\")\n",
    "\n",
    "işlem = input(\"İŞLEMİ SEÇİNİZ :\")\n",
    "\n",
    "\n",
    "\n",
    "a = int(input(\"Birinci Sayı : \"))\n",
    "        \n",
    "b = int(input(\"İkinci Sayı :\"))\n",
    "        \n",
    "if işlem==\"1\" :\n",
    "        print(\"{} ile {} in toplamı {} dir\" .format(a,b,a+b))\n",
    "\n",
    "\n",
    "elif işlem == \"2\" :\n",
    "        print(\"{} ile {} in farkı {} dir \".format(a,b,a-b))\n",
    "    \n",
    "elif işlem == \"3\" :\n",
    "        print(\"{} ile {} in çarpımı {} dir \".format(a,b,a*b))\n",
    "    \n",
    "        \n",
    "elif işlem == \"4\" :\n",
    "        print(\"{} ile {} in kalanı {} dir \" .format(a,b,a/b))\n",
    "\n",
    "else:\n",
    "    print(\"LÜTFEN YUKARIDAKİ İŞLEMLERDEN BİRİNİ SEÇİNİZ...\")\n",
    "    \n",
    "        \n"
   ]
  },
  {
   "cell_type": "code",
   "execution_count": null,
   "id": "7c21f001",
   "metadata": {},
   "outputs": [],
   "source": []
  },
  {
   "cell_type": "markdown",
   "id": "136aaa44",
   "metadata": {},
   "source": []
  }
 ],
 "metadata": {
  "kernelspec": {
   "display_name": "Python 3",
   "language": "python",
   "name": "python3"
  },
  "language_info": {
   "codemirror_mode": {
    "name": "ipython",
    "version": 3
   },
   "file_extension": ".py",
   "mimetype": "text/x-python",
   "name": "python",
   "nbconvert_exporter": "python",
   "pygments_lexer": "ipython3",
   "version": "3.8.8"
  }
 },
 "nbformat": 4,
 "nbformat_minor": 5
}
