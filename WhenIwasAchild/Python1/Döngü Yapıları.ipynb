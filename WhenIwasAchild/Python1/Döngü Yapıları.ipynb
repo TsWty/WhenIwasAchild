{
 "cells": [
  {
   "cell_type": "code",
   "execution_count": 2,
   "id": "b0e182b9",
   "metadata": {},
   "outputs": [
    {
     "data": {
      "text/plain": [
       "True"
      ]
     },
     "execution_count": 2,
     "metadata": {},
     "output_type": "execute_result"
    }
   ],
   "source": [
    "\"sel\" in \"selam\" #İN OPERATÖR İLE BAŞAK BİR STRİNG İÇERİSİNDE BİR KELİME HARF GEÇİYOR MU ANLAYABİLİRİZ"
   ]
  },
  {
   "cell_type": "code",
   "execution_count": 5,
   "id": "c4768b4a",
   "metadata": {},
   "outputs": [
    {
     "data": {
      "text/plain": [
       "False"
      ]
     },
     "execution_count": 5,
     "metadata": {},
     "output_type": "execute_result"
    }
   ],
   "source": [
    "4 in  [1,2,3,4]"
   ]
  },
  {
   "cell_type": "code",
   "execution_count": 11,
   "id": "d867fb3b",
   "metadata": {},
   "outputs": [
    {
     "name": "stdout",
     "output_type": "stream",
     "text": [
      "1\n",
      "2\n",
      "3\n",
      "4\n",
      "5\n",
      "6\n",
      "7\n",
      "8\n",
      "9\n",
      "10\n",
      "ömer\n",
      "mahmut\n"
     ]
    }
   ],
   "source": [
    "liste1 = (1,2,3,4,5,6,7,8,9,10,\"ömer\" ,\"mahmut\")\n",
    "\n",
    "for i in liste1:\n",
    "    print(i) #i değişkenini istediğimiz gibi değiştirebliriz i,x,ı,eleman vs. bu i nin olayı liste gibi topladığı verileri orada saklıyor\n",
    "    #for döngüsü ardından verilerin toplanacağı değişken ismi in (döngüsü içerisinde ki elemanlarla etkileşime geçmemizi sağlar) ardından en sonunda da for döngüsünün hangi değişkenin içerisinde dönüceğini seçeriz ve bu kadar\n",
    "    "
   ]
  },
  {
   "cell_type": "code",
   "execution_count": 19,
   "id": "64da66fc",
   "metadata": {},
   "outputs": [
    {
     "name": "stdout",
     "output_type": "stream",
     "text": [
      "Toplam : 1 i : 1\n",
      "Toplam : 3 i : 2\n",
      "Toplam : 6 i : 3\n",
      "Toplam : 10 i : 4\n",
      "Toplam : 15 i : 5\n",
      "Toplam : 25 i : 10\n",
      "Toplam : 55 i : 30\n",
      "Toplam : 124 i : 69\n",
      "Toplam : 211 i : 87\n"
     ]
    }
   ],
   "source": [
    "liste = [1,2,3,4,5,10,30,69,87]\n",
    "toplam = 0\n",
    "for i in liste:\n",
    "    toplam = toplam + i\n",
    "    print(\"Toplam : {} i : {}\". format (toplam,i))\n",
    "    "
   ]
  },
  {
   "cell_type": "code",
   "execution_count": 20,
   "id": "9b74afdb",
   "metadata": {},
   "outputs": [
    {
     "name": "stdout",
     "output_type": "stream",
     "text": [
      "2\n",
      "4\n",
      "6\n",
      "8\n",
      "90\n",
      "12\n"
     ]
    }
   ],
   "source": [
    "liste3 = [1,2,3,4,5,6,7,8,90,12]\n",
    "\n",
    "for i in liste3:\n",
    "    if i %2 == 0:\n",
    "        print(i)"
   ]
  },
  {
   "cell_type": "code",
   "execution_count": 21,
   "id": "70302375",
   "metadata": {},
   "outputs": [
    {
     "name": "stdout",
     "output_type": "stream",
     "text": [
      "P\n",
      "y\n",
      "t\n",
      "h\n",
      "o\n",
      "n\n"
     ]
    }
   ],
   "source": [
    "s = \"Python\"\n",
    "for i in s:\n",
    "    print(i)"
   ]
  },
  {
   "cell_type": "code",
   "execution_count": 25,
   "id": "358d146a",
   "metadata": {},
   "outputs": [
    {
     "name": "stdout",
     "output_type": "stream",
     "text": [
      "PPPPPPPPPP\n",
      "yyyyyyyyyy\n",
      "tttttttttt\n",
      "hhhhhhhhhh\n",
      "oooooooooo\n",
      "nnnnnnnnnn\n"
     ]
    }
   ],
   "source": [
    "s = \"Python\"\n",
    "for i in s:\n",
    "    print(i*10)"
   ]
  },
  {
   "cell_type": "code",
   "execution_count": 28,
   "id": "eccbd6db",
   "metadata": {},
   "outputs": [
    {
     "name": "stdout",
     "output_type": "stream",
     "text": [
      "1\n",
      "2\n",
      "3\n",
      "4\n",
      "5\n",
      "6\n"
     ]
    }
   ],
   "source": [
    "demet = (1,2,3,4,5,6)\n",
    "\n",
    "for x in demet:\n",
    "    print(x)"
   ]
  },
  {
   "cell_type": "code",
   "execution_count": 32,
   "id": "40501435",
   "metadata": {},
   "outputs": [
    {
     "name": "stdout",
     "output_type": "stream",
     "text": [
      "(1, 2)\n",
      "(3, 4)\n",
      "(5, 6)\n"
     ]
    }
   ],
   "source": [
    "liste = [(1,2),(3,4),(5,6)]\n",
    "\n",
    "for eleman in liste : \n",
    "    print(eleman)"
   ]
  },
  {
   "cell_type": "code",
   "execution_count": 33,
   "id": "2645e851",
   "metadata": {},
   "outputs": [
    {
     "name": "stdout",
     "output_type": "stream",
     "text": [
      "i:1 j:2\n",
      "i:3 j:4\n",
      "i:5 j:6\n"
     ]
    }
   ],
   "source": [
    "for (i,j) in liste:\n",
    "    print(\"i:{} j:{}\" .format(i,j)) #BU ŞEKİLDE DEMETLER İÇERİSİNDE ÇOK PRATİK BİR ŞEKİLDE GEZİNEBİLİRİZ\n",
    "    "
   ]
  },
  {
   "cell_type": "code",
   "execution_count": 34,
   "id": "83788e84",
   "metadata": {},
   "outputs": [],
   "source": [
    "sözlük  = {\"bir\" : 1,\"iki\" : 2,\"üç\" : 3}"
   ]
  },
  {
   "cell_type": "code",
   "execution_count": 41,
   "id": "7ca83d16",
   "metadata": {},
   "outputs": [
    {
     "name": "stdout",
     "output_type": "stream",
     "text": [
      "('bir', 1)\n",
      "('iki', 2)\n",
      "('üç', 3)\n"
     ]
    }
   ],
   "source": [
    "for eleman in sözlük.items():\n",
    "    print(eleman)"
   ]
  },
  {
   "cell_type": "code",
   "execution_count": 43,
   "id": "7fac3126",
   "metadata": {},
   "outputs": [
    {
     "name": "stdout",
     "output_type": "stream",
     "text": [
      "bir\n",
      "iki\n",
      "üç\n"
     ]
    }
   ],
   "source": [
    "for eleman in sözlük.keys():\n",
    "    print(eleman)#BU ŞEKİLDE SÖZLÜK YAPILARINI DA KULLANABLİRİZ"
   ]
  },
  {
   "cell_type": "code",
   "execution_count": 2,
   "id": "4bbacd9c",
   "metadata": {},
   "outputs": [
    {
     "name": "stdout",
     "output_type": "stream",
     "text": [
      "i nin değeri 0\n",
      "i nin değeri 1\n",
      "i nin değeri 2\n",
      "i nin değeri 3\n",
      "i nin değeri 4\n",
      "i nin değeri 5\n",
      "i nin değeri 6\n",
      "i nin değeri 7\n",
      "i nin değeri 8\n",
      "i nin değeri 9\n"
     ]
    }
   ],
   "source": [
    "i = 0\n",
    "while(i<10):\n",
    "    print(\"i nin değeri\",i)\n",
    "    \n",
    "    i+=1"
   ]
  },
  {
   "cell_type": "code",
   "execution_count": null,
   "id": "411c5c0c",
   "metadata": {},
   "outputs": [],
   "source": [
    "liste=(1,2,3,4,5,6,7,8)"
   ]
  },
  {
   "cell_type": "code",
   "execution_count": null,
   "id": "7b86561b",
   "metadata": {},
   "outputs": [],
   "source": [
    "i = 0\n",
    "while(i<50):\n",
    "    print(\"i nin değeri\",i)\n",
    "    \n",
    "    i=+2*4"
   ]
  },
  {
   "cell_type": "code",
   "execution_count": 1,
   "id": "10041244",
   "metadata": {},
   "outputs": [
    {
     "name": "stdout",
     "output_type": "stream",
     "text": [
      "1\n",
      "2\n",
      "3\n",
      "4\n",
      "5\n"
     ]
    }
   ],
   "source": [
    "liste = [1,2,3,4,5]\n",
    "\n",
    "for i in liste : \n",
    "    print(i)"
   ]
  },
  {
   "cell_type": "code",
   "execution_count": 5,
   "id": "590702d7",
   "metadata": {},
   "outputs": [
    {
     "name": "stdout",
     "output_type": "stream",
     "text": [
      "index: 0 Liste elemanı 1\n",
      "index: 1 Liste elemanı 2\n",
      "index: 2 Liste elemanı 3\n",
      "index: 3 Liste elemanı 4\n",
      "index: 4 Liste elemanı 5\n"
     ]
    }
   ],
   "source": [
    "index =0\n",
    "while(index < len(liste)) :\n",
    "    print(\"index:\" , index,\"Liste elemanı\" ,liste[index]) #FOR YERİNE WHİLE İLE BÖYLE GEZİNEBİLİRİZ MA FOR DAHA KOLAY:)\n",
    "    index +=1"
   ]
  },
  {
   "cell_type": "code",
   "execution_count": 12,
   "id": "480c9b4d",
   "metadata": {},
   "outputs": [],
   "source": [
    "#RANGE FONKSİYONU"
   ]
  },
  {
   "cell_type": "code",
   "execution_count": 13,
   "id": "1d58fbd5",
   "metadata": {},
   "outputs": [
    {
     "data": {
      "text/plain": [
       "range(0, 20)"
      ]
     },
     "execution_count": 13,
     "metadata": {},
     "output_type": "execute_result"
    }
   ],
   "source": [
    "range(0,20)"
   ]
  },
  {
   "cell_type": "code",
   "execution_count": 14,
   "id": "048d8aac",
   "metadata": {},
   "outputs": [
    {
     "name": "stdout",
     "output_type": "stream",
     "text": [
      "0 1 2 3 4 5 6 7 8 9 10 11 12 13 14 15 16 17 18 19\n"
     ]
    }
   ],
   "source": [
    "print(*range(0,20))"
   ]
  },
  {
   "cell_type": "code",
   "execution_count": 15,
   "id": "23475071",
   "metadata": {},
   "outputs": [
    {
     "name": "stdout",
     "output_type": "stream",
     "text": [
      "0 1 2 3 4 5 6 7 8 9 10 11 12 13 14 15 16 17 18 19 20\n"
     ]
    }
   ],
   "source": [
    "print(*range(0,21))"
   ]
  },
  {
   "cell_type": "code",
   "execution_count": 16,
   "id": "83ef4a5b",
   "metadata": {},
   "outputs": [
    {
     "name": "stdout",
     "output_type": "stream",
     "text": [
      "1 2 3 4 5 6 7 8 9 10 11 12 13 14 15 16 17 18 19\n"
     ]
    }
   ],
   "source": [
    "print(*range(1,20))"
   ]
  },
  {
   "cell_type": "code",
   "execution_count": 17,
   "id": "49fab108",
   "metadata": {},
   "outputs": [
    {
     "name": "stdout",
     "output_type": "stream",
     "text": [
      "0 1 2 3 4 5 6 7 8 9 10 11 12 13 14\n"
     ]
    }
   ],
   "source": [
    "print(*range(15))"
   ]
  },
  {
   "cell_type": "code",
   "execution_count": 19,
   "id": "17f2236d",
   "metadata": {},
   "outputs": [
    {
     "name": "stdout",
     "output_type": "stream",
     "text": [
      "0 1 2 3 4 5 6 7 8 9 10 11 12 13 14 15 16 17 18 19 20 21 22 23 24 25 26 27 28 29 30 31 32 33 34 35 36 37 38 39 40 41 42 43 44 45 46 47 48 49 50 51 52 53 54 55 56 57 58 59 60 61 62 63 64 65 66 67 68 69 70 71 72 73 74 75 76 77 78 79 80 81 82 83 84 85 86 87 88 89\n"
     ]
    }
   ],
   "source": [
    "print(*range(90))"
   ]
  },
  {
   "cell_type": "code",
   "execution_count": 26,
   "id": "45012958",
   "metadata": {},
   "outputs": [
    {
     "name": "stdout",
     "output_type": "stream",
     "text": [
      "0 2 4 6 8 10 12 14 16 18 20 22 24 26 28 30 32 34 36 38 40 42 44 46 48 50 52 54 56 58 60 62 64 66 68 70 72 74 76 78 80 82 84 86 88 90 92 94 96 98\n"
     ]
    }
   ],
   "source": [
    "print(*range(0,100,2))#0'dan başla 100'e kadar git 2 atlayarak git demektri"
   ]
  },
  {
   "cell_type": "code",
   "execution_count": 27,
   "id": "baa0367b",
   "metadata": {},
   "outputs": [
    {
     "name": "stdout",
     "output_type": "stream",
     "text": [
      "20 19 18 17 16 15 14 13 12 11 10 9 8 7 6 5 4 3 2 1\n"
     ]
    }
   ],
   "source": [
    "print(*range(20,0,-1))"
   ]
  },
  {
   "cell_type": "code",
   "execution_count": 28,
   "id": "1bec5c64",
   "metadata": {},
   "outputs": [
    {
     "name": "stdout",
     "output_type": "stream",
     "text": [
      "1\n",
      "2\n",
      "3\n",
      "4\n",
      "5\n",
      "6\n"
     ]
    }
   ],
   "source": [
    "liste = [1,2,3,4,5,6]\n",
    "for i in  liste:\n",
    "    print(i)"
   ]
  },
  {
   "cell_type": "code",
   "execution_count": 32,
   "id": "0b244ec9",
   "metadata": {},
   "outputs": [
    {
     "name": "stdout",
     "output_type": "stream",
     "text": [
      "0\n",
      "2\n",
      "4\n",
      "6\n",
      "8\n",
      "10\n",
      "12\n",
      "14\n",
      "16\n",
      "18\n",
      "20\n",
      "22\n",
      "24\n",
      "26\n",
      "28\n"
     ]
    }
   ],
   "source": [
    "for i in range(0,30,2) : #range fonksiiyonlarını for döngüsünün içerisinde böyle kullanabiliriz\n",
    "    print(i)"
   ]
  },
  {
   "cell_type": "code",
   "execution_count": 33,
   "id": "24091274",
   "metadata": {},
   "outputs": [
    {
     "name": "stdout",
     "output_type": "stream",
     "text": [
      "*\n",
      "**\n",
      "***\n",
      "****\n",
      "*****\n",
      "******\n",
      "*******\n",
      "********\n",
      "*********\n"
     ]
    }
   ],
   "source": [
    "for i in range(1,10):\n",
    "    print(\"*\" * i)"
   ]
  },
  {
   "cell_type": "code",
   "execution_count": 34,
   "id": "282da03f",
   "metadata": {},
   "outputs": [
    {
     "name": "stdout",
     "output_type": "stream",
     "text": [
      "i 0\n",
      "i 1\n",
      "i 2\n",
      "i 3\n",
      "i 4\n",
      "i 5\n",
      "i 6\n",
      "i 7\n",
      "i 8\n",
      "i 9\n"
     ]
    }
   ],
   "source": [
    "i = 0\n",
    "\n",
    "while (i<10):\n",
    "    print(\"i\" , i)\n",
    "    \n",
    "    i+=1"
   ]
  },
  {
   "cell_type": "code",
   "execution_count": 47,
   "id": "5e6a8b14",
   "metadata": {},
   "outputs": [
    {
     "name": "stdout",
     "output_type": "stream",
     "text": [
      "i 0\n",
      "i 1\n",
      "i 2\n",
      "i 3\n",
      "i 4\n"
     ]
    }
   ],
   "source": [
    "i = 0\n",
    "\n",
    "while (i<10):\n",
    "        if(i==5):\n",
    "            break\n",
    "        print(\"i\",i)\n",
    "        i+=1"
   ]
  },
  {
   "cell_type": "code",
   "execution_count": 54,
   "id": "93fb21f8",
   "metadata": {},
   "outputs": [
    {
     "name": "stdout",
     "output_type": "stream",
     "text": [
      "i 1\n",
      "i 2\n",
      "i 3\n"
     ]
    }
   ],
   "source": [
    "liste =[1,2,3,4,5]\n",
    "\n",
    "for i in liste:\n",
    "    print(\"i\" , i)\n",
    "    if (i==3):\n",
    "        break\n",
    "        print(\"i\" , i)"
   ]
  },
  {
   "cell_type": "code",
   "execution_count": 59,
   "id": "4e8ab386",
   "metadata": {},
   "outputs": [
    {
     "name": "stdout",
     "output_type": "stream",
     "text": [
      "İsim(Çıkmak için 'q' ya basın): q\n",
      "Programdan Çıkılıyor...\n"
     ]
    }
   ],
   "source": [
    "while True: #DEMEK EĞER KODLARIMIZIN HERHANGİ BİR DURDURMA KOMUTU OLMAZSA DÖNGÜMÜZ SONSUZA KADAR GİDİCEK DEMEKTİR\n",
    "    isim = input(\"İsim(Çıkmak için 'q' ya basın): \")\n",
    "    if (isim == \"q\"):\n",
    "        print(\"Programdan Çıkılıyor...\")\n",
    "        break\n",
    "    print(\"İsminiz:\" , isim)"
   ]
  },
  {
   "cell_type": "code",
   "execution_count": 1,
   "id": "02f75077",
   "metadata": {},
   "outputs": [],
   "source": [
    "liste = list(range(11))"
   ]
  },
  {
   "cell_type": "code",
   "execution_count": 6,
   "id": "e4a23d99",
   "metadata": {},
   "outputs": [],
   "source": [
    "liste = list(range(12))"
   ]
  },
  {
   "cell_type": "code",
   "execution_count": 9,
   "id": "4ceff2ba",
   "metadata": {},
   "outputs": [],
   "source": [
    "liste = (1,2,3,4,5,6,7,8)"
   ]
  },
  {
   "cell_type": "code",
   "execution_count": 17,
   "id": "47060c97",
   "metadata": {},
   "outputs": [
    {
     "name": "stdout",
     "output_type": "stream",
     "text": [
      "i: 1\n",
      "i: 2\n",
      "i: 4\n",
      "i: 6\n",
      "i: 7\n",
      "i: 8\n"
     ]
    }
   ],
   "source": [
    "for i in liste:\n",
    "    if(i == 3 or i == 5):\n",
    "        continue\n",
    "    print(\"i:\",i) "
   ]
  },
  {
   "cell_type": "code",
   "execution_count": null,
   "id": "d49eb04f",
   "metadata": {},
   "outputs": [],
   "source": [
    "b = 5\n",
    "while (b < 50):\n",
    "        if b ==50 or b > 50:\n",
    "            break\n",
    "        \n",
    "print(\"b\",b)\n",
    "b*=3"
   ]
  },
  {
   "cell_type": "code",
   "execution_count": 1,
   "id": "b3b0535e",
   "metadata": {},
   "outputs": [
    {
     "ename": "NameError",
     "evalue": "name 'eleman' is not defined",
     "output_type": "error",
     "traceback": [
      "\u001b[1;31m---------------------------------------------------------------------------\u001b[0m",
      "\u001b[1;31mNameError\u001b[0m                                 Traceback (most recent call last)",
      "\u001b[1;32m<ipython-input-1-7c586f51b41f>\u001b[0m in \u001b[0;36m<module>\u001b[1;34m\u001b[0m\n\u001b[1;32m----> 1\u001b[1;33m \u001b[0meleman\u001b[0m\u001b[1;33m\u001b[0m\u001b[1;33m\u001b[0m\u001b[0m\n\u001b[0m",
      "\u001b[1;31mNameError\u001b[0m: name 'eleman' is not defined"
     ]
    }
   ],
   "source": [
    "eleman\n"
   ]
  },
  {
   "cell_type": "code",
   "execution_count": 2,
   "id": "7e3b5b79",
   "metadata": {},
   "outputs": [
    {
     "name": "stdout",
     "output_type": "stream",
     "text": [
      "0 2 4 6 8 10 12 14 16 18 20 22 24 26 28 30 32 34 36 38 40 42 44 46 48\n"
     ]
    }
   ],
   "source": [
    "print (*range(0,50,2))"
   ]
  }
 ],
 "metadata": {
  "kernelspec": {
   "display_name": "Python 3",
   "language": "python",
   "name": "python3"
  },
  "language_info": {
   "codemirror_mode": {
    "name": "ipython",
    "version": 3
   },
   "file_extension": ".py",
   "mimetype": "text/x-python",
   "name": "python",
   "nbconvert_exporter": "python",
   "pygments_lexer": "ipython3",
   "version": "3.8.8"
  }
 },
 "nbformat": 4,
 "nbformat_minor": 5
}
