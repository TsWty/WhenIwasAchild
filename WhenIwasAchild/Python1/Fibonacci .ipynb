{
 "cells": [
  {
   "cell_type": "code",
   "execution_count": 25,
   "id": "ed458edb",
   "metadata": {},
   "outputs": [
    {
     "name": "stdout",
     "output_type": "stream",
     "text": [
      "[1, 1, 2, 3, 5, 8, 13, 21, 34, 55, 89, 144, 233, 377, 610, 987, 1597, 2584, 4181, 6765, 10946, 17711]\n"
     ]
    }
   ],
   "source": [
    "a = 1\n",
    "b = 1\n",
    "\n",
    "fibonacci = [a,b]\n",
    "\n",
    "for i in range(20) : \n",
    "    \n",
    "    a,b = b,a+b #denklem gibi soldaki a sağdaki b ye eşit  b ile eşitleniyor sonra a+b\n",
    "    \n",
    "    fibonacci.append(b)\n",
    "print(fibonacci)\n",
    "\n",
    "\n"
   ]
  },
  {
   "cell_type": "code",
   "execution_count": 2,
   "id": "fab0855b",
   "metadata": {},
   "outputs": [
    {
     "name": "stdout",
     "output_type": "stream",
     "text": [
      "Hangi Para Birimine Çevirmek İstersiniz : 1\n",
      "LÜTFEN GEÇERLİ PARA BİRİMİ GİRİNİZ...\n",
      "Hangi Para Birimine Çevirmek İstersiniz : 5995\n",
      "LÜTFEN GEÇERLİ PARA BİRİMİ GİRİNİZ...\n",
      "Hangi Para Birimine Çevirmek İstersiniz : 12\n",
      "LÜTFEN GEÇERLİ PARA BİRİMİ GİRİNİZ...\n",
      "Hangi Para Birimine Çevirmek İstersiniz : 5\n",
      "LÜTFEN GEÇERLİ PARA BİRİMİ GİRİNİZ...\n",
      "Hangi Para Birimine Çevirmek İstersiniz : 12\n",
      "LÜTFEN GEÇERLİ PARA BİRİMİ GİRİNİZ...\n",
      "Hangi Para Birimine Çevirmek İstersiniz : q\n",
      "HOŞÇAKALIN\n"
     ]
    }
   ],
   "source": [
    "print\n",
    "(\"\"\"\n",
    "\n",
    "İşlemler ;\n",
    "\n",
    "TL Yİ PARA BİRİMLERİNE ÇEVİRME MAKİNESİ\n",
    "\n",
    "1- NORVEÇ KRONU\n",
    "\n",
    "2- SOMALİ ŞİLİNİ\n",
    "\n",
    "3- JAPON YENİ\n",
    "\n",
    "4- ARJANTİN PESOSU\n",
    "\n",
    "5- KATAR RİYALİ\n",
    "\n",
    "6- FAS DİRHEMİ\n",
    "\n",
    "7- KUVEYT DİNARI\n",
    "\n",
    "\n",
    "ÇIKMAK İÇİN \"q\" YA BASIN\n",
    "\n",
    "\"\"\")\n",
    "\n",
    "\n",
    "\n",
    "\n",
    "\n",
    "while True:\n",
    "    \n",
    "    birim =  input(\"Hangi Para Birimine Çevirmek İstersiniz : \")    \n",
    "    \n",
    "    if(birim == \"q\"):\n",
    "        print(\"HOŞÇAKALIN\")\n",
    "        break\n",
    "    if (birim == 1):\n",
    "        print(norveçk/miktar)\n",
    "            \n",
    "    elif (birim == 2):\n",
    "        \n",
    "        miktar = int(input(\"MİKTARI GİRİNİZ : \"))\n",
    "        \n",
    "        \n",
    "        somaliş/miktar\n",
    "    \n",
    "    elif (birim == 3):\n",
    "        print(somaliş/miktar)\n",
    "\n",
    "    elif (birim == 4):\n",
    "        print(arjantinp/miktar) \n",
    "    \n",
    "    elif (birim == 5):\n",
    "        print(katarr/miktar)\n",
    "    \n",
    "    elif (birim == 6):\n",
    "        print(fasd/miktar)\n",
    "    \n",
    "    elif (birim == 7):\n",
    "        print(kuveytd/miktar)\n",
    "        \n",
    "        \n",
    "    \n",
    "    else:\n",
    "        print(\"LÜTFEN GEÇERLİ PARA BİRİMİ GİRİNİZ...\")\n",
    "        print(\"Teşekkürler\")\n",
    "        \n",
    "            "
   ]
  },
  {
   "cell_type": "markdown",
   "id": "affd5f9b",
   "metadata": {},
   "source": []
  },
  {
   "cell_type": "code",
   "execution_count": 34,
   "id": "bf6d3311",
   "metadata": {},
   "outputs": [
    {
     "data": {
      "text/plain": [
       "0.66"
      ]
     },
     "execution_count": 34,
     "metadata": {},
     "output_type": "execute_result"
    }
   ],
   "source": [
    "norveçk"
   ]
  },
  {
   "cell_type": "code",
   "execution_count": 35,
   "id": "6bf78fe7",
   "metadata": {},
   "outputs": [],
   "source": [
    "somaliş = 42.93"
   ]
  },
  {
   "cell_type": "code",
   "execution_count": 36,
   "id": "8ad6d24c",
   "metadata": {},
   "outputs": [],
   "source": [
    "japony = 8.34"
   ]
  },
  {
   "cell_type": "code",
   "execution_count": 38,
   "id": "291a0c07",
   "metadata": {},
   "outputs": [],
   "source": [
    "arjantinp = 7.45"
   ]
  },
  {
   "cell_type": "code",
   "execution_count": 39,
   "id": "8f0852c0",
   "metadata": {},
   "outputs": [],
   "source": [
    "katarr = 0.27"
   ]
  },
  {
   "cell_type": "code",
   "execution_count": 40,
   "id": "5a98bdce",
   "metadata": {},
   "outputs": [],
   "source": [
    "fasd = 0.68"
   ]
  },
  {
   "cell_type": "code",
   "execution_count": null,
   "id": "a3adcdb5",
   "metadata": {},
   "outputs": [],
   "source": [
    "kuveytd"
   ]
  },
  {
   "cell_type": "code",
   "execution_count": null,
   "id": "cf58baca",
   "metadata": {},
   "outputs": [],
   "source": [
    "kuvasd"
   ]
  },
  {
   "cell_type": "code",
   "execution_count": null,
   "id": "fbec1fde",
   "metadata": {},
   "outputs": [],
   "source": []
  }
 ],
 "metadata": {
  "kernelspec": {
   "display_name": "Python 3",
   "language": "python",
   "name": "python3"
  },
  "language_info": {
   "codemirror_mode": {
    "name": "ipython",
    "version": 3
   },
   "file_extension": ".py",
   "mimetype": "text/x-python",
   "name": "python",
   "nbconvert_exporter": "python",
   "pygments_lexer": "ipython3",
   "version": "3.9.5"
  }
 },
 "nbformat": 4,
 "nbformat_minor": 5
}
