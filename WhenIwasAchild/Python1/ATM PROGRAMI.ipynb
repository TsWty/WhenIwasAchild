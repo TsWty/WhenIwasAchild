{
 "cells": [
  {
   "cell_type": "code",
   "execution_count": null,
   "id": "8afa1d54",
   "metadata": {},
   "outputs": [],
   "source": [
    "print(\"\"\"\n",
    "Atm Makinesine Hoş Geldiniz\n",
    "\n",
    "İşlemler;\n",
    "\n",
    "1- Bakiye Sorgulama\n",
    "\n",
    "2- Para Yatırma\n",
    "\n",
    "3- Para Çekme\n",
    "\n",
    "Programdan Çıkmak İçin 'q' ya basın.\n",
    "\n",
    "\n",
    "\"\"\")\n",
    "\n",
    "bakiye = 1000\n",
    "\n",
    "while True:\n",
    "    işlem = input(\"İşlemi seçiniz:\")\n",
    "    \n",
    "    if(işlem == \"q\"):\n",
    "        print(\"Yine bekleriz\")\n",
    "        break\n",
    "    elif (işlem == \"1\"):\n",
    "        print(\"Bakiyeniz {} tl dir\" .format(bakiye))\n",
    "    \n",
    "    elif(işlem == \"2\"):\n",
    "        miktar = int(input(\"Miktarı Giriniz : \"))\n",
    "        \n",
    "        bakiye+=miktar\n",
    "    \n",
    "    elif(işlem == \"3\"):\n",
    "        miktar =  int(input(\"Miktarı Giriniz :\"))\n",
    "        if(bakiye - miktar < 0):\n",
    "            print(\"Böyle Bir Miktar Çekemezsiniz\")\n",
    "            continue\n",
    "            \n",
    "        bakiye -= miktar\n",
    "    else:\n",
    "        print(\"Geçersiz İşlem...\")"
   ]
  },
  {
   "cell_type": "code",
   "execution_count": null,
   "id": "ac4d386c",
   "metadata": {},
   "outputs": [],
   "source": [
    " "
   ]
  }
 ],
 "metadata": {
  "kernelspec": {
   "display_name": "Python 3",
   "language": "python",
   "name": "python3"
  },
  "language_info": {
   "codemirror_mode": {
    "name": "ipython",
    "version": 3
   },
   "file_extension": ".py",
   "mimetype": "text/x-python",
   "name": "python",
   "nbconvert_exporter": "python",
   "pygments_lexer": "ipython3",
   "version": "3.8.8"
  }
 },
 "nbformat": 4,
 "nbformat_minor": 5
}
