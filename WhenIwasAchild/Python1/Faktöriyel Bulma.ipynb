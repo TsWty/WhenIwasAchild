{
 "cells": [
  {
   "cell_type": "code",
   "execution_count": null,
   "id": "0d123f6c",
   "metadata": {},
   "outputs": [],
   "source": [
    "print(\"\"\"\n",
    "***************\n",
    "\n",
    "Faktoriyel Bulma Programı\n",
    "\n",
    "\n",
    "Çıkmak İÇin 'q'ya Basın\n",
    "\n",
    "***************\n",
    "\n",
    "\"\"\")\n",
    "while True : \n",
    "    sayı = input(\"Sayı : \")\n",
    "    if(sayı == \"q\"):\n",
    "        print(\"Program Sonlandırılıyor.\")\n",
    "        break\n",
    "        \n",
    "    else:\n",
    "        sayı = int(sayı)\n",
    "        \n",
    "        faktoriyel = 1\n",
    "        \n",
    "        for i in range( 2,sayı+1) :\n",
    "            faktoriyel *= i\n",
    "            print(\"Faktöriyel\" ,faktoriyel)\n",
    "        "
   ]
  },
  {
   "cell_type": "code",
   "execution_count": null,
   "id": "13f3f901",
   "metadata": {},
   "outputs": [],
   "source": []
  }
 ],
 "metadata": {
  "kernelspec": {
   "display_name": "Python 3",
   "language": "python",
   "name": "python3"
  },
  "language_info": {
   "codemirror_mode": {
    "name": "ipython",
    "version": 3
   },
   "file_extension": ".py",
   "mimetype": "text/x-python",
   "name": "python",
   "nbconvert_exporter": "python",
   "pygments_lexer": "ipython3",
   "version": "3.8.8"
  }
 },
 "nbformat": 4,
 "nbformat_minor": 5
}
